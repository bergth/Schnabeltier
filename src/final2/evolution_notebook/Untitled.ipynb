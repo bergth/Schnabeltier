{
 "cells": [
  {
   "cell_type": "code",
   "execution_count": 1,
   "metadata": {},
   "outputs": [
    {
     "name": "stdout",
     "output_type": "stream",
     "text": [
      "data.db  \u001b[0m\u001b[01;32mmain\u001b[0m*  \u001b[01;34m__pycache__\u001b[0m/  Untitled.ipynb  vogelbekdier.py\r\n"
     ]
    }
   ],
   "source": [
    "ls"
   ]
  },
  {
   "cell_type": "code",
   "execution_count": 2,
   "metadata": {},
   "outputs": [],
   "source": [
    "from vogelbekdier import *"
   ]
  },
  {
   "cell_type": "code",
   "execution_count": 3,
   "metadata": {},
   "outputs": [
    {
     "data": {
      "text/html": [
       "<script>requirejs.config({paths: { 'plotly': ['https://cdn.plot.ly/plotly-latest.min']},});if(!window.Plotly) {{require(['plotly'],function(plotly) {window.Plotly=plotly;});}}</script>"
      ],
      "text/vnd.plotly.v1+html": [
       "<script>requirejs.config({paths: { 'plotly': ['https://cdn.plot.ly/plotly-latest.min']},});if(!window.Plotly) {{require(['plotly'],function(plotly) {window.Plotly=plotly;});}}</script>"
      ]
     },
     "metadata": {},
     "output_type": "display_data"
    },
    {
     "name": "stdout",
     "output_type": "stream",
     "text": [
      "b'Hello Schnabeltier !\\n[ENVIRONNEMENT]----------\\n[Temperature] -> [0.500000]\\n[Humidit\\xc3\\xa9] -> [1.000000]\\n[% carnivores] -> [43.000000]\\n[% vegetation] -> [1.000000]\\n[% eau] -> [1.000000]\\nn: 100\\n             | moy      | variance | equart   |\\n-------------+----------+----------+----------+\\npoils:      |   0.50024|   0.09605|   0.30992|\\n-------------+----------+----------+----------+\\npalmes:      |   0.49104|   0.06378|   0.25255|\\n-------------+----------+----------+----------+\\nherbi:      |   0.43334|   0.08261|   0.28743|\\n-------------+----------+----------+----------+\\nmin:   [0]\\norder: [100]\\nn: 831\\n             | moy      | variance | equart   |\\n-------------+----------+----------+----------+\\npoils:      |   0.55699|   0.00399|   0.06321|\\n-------------+----------+----------+----------+\\npalmes:      |   0.86190|   0.00245|   0.04954|\\n-------------+----------+----------+----------+\\nherbi:      |   0.87691|   0.00271|   0.05204|\\n-------------+----------+----------+----------+\\nmin:   [39380]\\norder: [40211]\\nWriting database [data.db], please wait...\\nDone.\\nGood by Schnabeltier !\\n'\n"
     ]
    }
   ],
   "source": [
    "V = vogel()"
   ]
  },
  {
   "cell_type": "code",
   "execution_count": 4,
   "metadata": {},
   "outputs": [
    {
     "name": "stdout",
     "output_type": "stream",
     "text": [
      "99\n"
     ]
    },
    {
     "data": {
      "application/vnd.plotly.v1+json": {
       "data": [
        {
         "x": [
          0,
          1,
          2,
          3,
          4,
          5,
          6,
          7,
          8,
          9,
          10,
          11,
          12,
          13,
          14,
          15,
          16,
          17,
          18,
          19,
          20,
          21,
          22,
          23,
          24,
          25,
          26,
          27,
          28,
          29,
          30,
          31,
          32,
          33,
          34,
          35,
          36,
          37,
          38,
          39,
          40,
          41,
          42,
          43,
          44,
          45,
          46,
          47,
          48,
          49,
          50,
          51,
          52,
          53,
          54,
          55,
          56,
          57,
          58,
          59,
          60,
          61,
          62,
          63,
          64,
          65,
          66,
          67,
          68,
          69,
          70,
          71,
          72,
          73,
          74,
          75,
          76,
          77,
          78,
          79,
          80,
          81,
          82,
          83,
          84,
          85,
          86,
          87,
          88,
          89,
          90,
          91,
          92,
          93,
          94,
          95,
          96,
          97
         ],
         "y": [
          435,
          334,
          422,
          365,
          366,
          376,
          386,
          393,
          348,
          360,
          359,
          368,
          391,
          344,
          343,
          344,
          369,
          371,
          371,
          358,
          360,
          381,
          397,
          347,
          353,
          393,
          354,
          349,
          355,
          334,
          376,
          392,
          365,
          376,
          364,
          378,
          369,
          377,
          377,
          401,
          382,
          421,
          429,
          403,
          414,
          416,
          425,
          413,
          465,
          420,
          482,
          447,
          395,
          390,
          437,
          419,
          392,
          420,
          422,
          414,
          388,
          405,
          405,
          343,
          405,
          398,
          417,
          384,
          402,
          405,
          371,
          363,
          370,
          360,
          348,
          351,
          426,
          421,
          410,
          364,
          390,
          395,
          359,
          400,
          360,
          391,
          359,
          366,
          388,
          390,
          429,
          449,
          435,
          436,
          422,
          406,
          400,
          381,
          2112
         ]
        }
       ],
       "layout": {}
      },
      "text/html": [
       "<div id=\"53ddb6ab-5c72-4a67-aa4f-3ad115ee3974\" style=\"height: 525px; width: 100%;\" class=\"plotly-graph-div\"></div><script type=\"text/javascript\">require([\"plotly\"], function(Plotly) { window.PLOTLYENV=window.PLOTLYENV || {};window.PLOTLYENV.BASE_URL=\"https://plot.ly\";Plotly.newPlot(\"53ddb6ab-5c72-4a67-aa4f-3ad115ee3974\", [{\"x\": [0, 1, 2, 3, 4, 5, 6, 7, 8, 9, 10, 11, 12, 13, 14, 15, 16, 17, 18, 19, 20, 21, 22, 23, 24, 25, 26, 27, 28, 29, 30, 31, 32, 33, 34, 35, 36, 37, 38, 39, 40, 41, 42, 43, 44, 45, 46, 47, 48, 49, 50, 51, 52, 53, 54, 55, 56, 57, 58, 59, 60, 61, 62, 63, 64, 65, 66, 67, 68, 69, 70, 71, 72, 73, 74, 75, 76, 77, 78, 79, 80, 81, 82, 83, 84, 85, 86, 87, 88, 89, 90, 91, 92, 93, 94, 95, 96, 97], \"y\": [435, 334, 422, 365, 366, 376, 386, 393, 348, 360, 359, 368, 391, 344, 343, 344, 369, 371, 371, 358, 360, 381, 397, 347, 353, 393, 354, 349, 355, 334, 376, 392, 365, 376, 364, 378, 369, 377, 377, 401, 382, 421, 429, 403, 414, 416, 425, 413, 465, 420, 482, 447, 395, 390, 437, 419, 392, 420, 422, 414, 388, 405, 405, 343, 405, 398, 417, 384, 402, 405, 371, 363, 370, 360, 348, 351, 426, 421, 410, 364, 390, 395, 359, 400, 360, 391, 359, 366, 388, 390, 429, 449, 435, 436, 422, 406, 400, 381, 2112]}], {}, {\"showLink\": true, \"linkText\": \"Export to plot.ly\"})});</script>"
      ],
      "text/vnd.plotly.v1+html": [
       "<div id=\"53ddb6ab-5c72-4a67-aa4f-3ad115ee3974\" style=\"height: 525px; width: 100%;\" class=\"plotly-graph-div\"></div><script type=\"text/javascript\">require([\"plotly\"], function(Plotly) { window.PLOTLYENV=window.PLOTLYENV || {};window.PLOTLYENV.BASE_URL=\"https://plot.ly\";Plotly.newPlot(\"53ddb6ab-5c72-4a67-aa4f-3ad115ee3974\", [{\"x\": [0, 1, 2, 3, 4, 5, 6, 7, 8, 9, 10, 11, 12, 13, 14, 15, 16, 17, 18, 19, 20, 21, 22, 23, 24, 25, 26, 27, 28, 29, 30, 31, 32, 33, 34, 35, 36, 37, 38, 39, 40, 41, 42, 43, 44, 45, 46, 47, 48, 49, 50, 51, 52, 53, 54, 55, 56, 57, 58, 59, 60, 61, 62, 63, 64, 65, 66, 67, 68, 69, 70, 71, 72, 73, 74, 75, 76, 77, 78, 79, 80, 81, 82, 83, 84, 85, 86, 87, 88, 89, 90, 91, 92, 93, 94, 95, 96, 97], \"y\": [435, 334, 422, 365, 366, 376, 386, 393, 348, 360, 359, 368, 391, 344, 343, 344, 369, 371, 371, 358, 360, 381, 397, 347, 353, 393, 354, 349, 355, 334, 376, 392, 365, 376, 364, 378, 369, 377, 377, 401, 382, 421, 429, 403, 414, 416, 425, 413, 465, 420, 482, 447, 395, 390, 437, 419, 392, 420, 422, 414, 388, 405, 405, 343, 405, 398, 417, 384, 402, 405, 371, 363, 370, 360, 348, 351, 426, 421, 410, 364, 390, 395, 359, 400, 360, 391, 359, 366, 388, 390, 429, 449, 435, 436, 422, 406, 400, 381, 2112]}], {}, {\"showLink\": true, \"linkText\": \"Export to plot.ly\"})});</script>"
      ]
     },
     "metadata": {},
     "output_type": "display_data"
    }
   ],
   "source": [
    "V.draw_death()"
   ]
  }
 ],
 "metadata": {
  "kernelspec": {
   "display_name": "Python 3",
   "language": "python",
   "name": "python3"
  },
  "language_info": {
   "codemirror_mode": {
    "name": "ipython",
    "version": 3
   },
   "file_extension": ".py",
   "mimetype": "text/x-python",
   "name": "python",
   "nbconvert_exporter": "python",
   "pygments_lexer": "ipython3",
   "version": "3.6.3"
  }
 },
 "nbformat": 4,
 "nbformat_minor": 2
}
